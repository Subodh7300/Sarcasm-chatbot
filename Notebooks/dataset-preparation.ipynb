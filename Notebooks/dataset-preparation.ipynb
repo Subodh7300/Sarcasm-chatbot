{
 "cells": [
  {
   "cell_type": "code",
   "execution_count": 1,
   "metadata": {},
   "outputs": [],
   "source": [
    "import pandas as pd"
   ]
  },
  {
   "cell_type": "code",
   "execution_count": 2,
   "metadata": {},
   "outputs": [],
   "source": [
    "qajokes = pd.read_csv(\"../data/qajokes1.1.2.csv\", usecols=['Question', 'Answer'])\n",
    "nosubj = pd.read_csv('../data/t_nosubject.csv', usecols=['Question', 'Answer'])"
   ]
  },
  {
   "cell_type": "code",
   "execution_count": 3,
   "metadata": {},
   "outputs": [
    {
     "name": "stdout",
     "output_type": "stream",
     "text": [
      "75114\n",
      "32120\n"
     ]
    }
   ],
   "source": [
    "print(len(qajokes))\n",
    "print(len(nosubj))"
   ]
  },
  {
   "cell_type": "code",
   "execution_count": 4,
   "metadata": {},
   "outputs": [
    {
     "data": {
      "text/html": [
       "<div>\n",
       "<style scoped>\n",
       "    .dataframe tbody tr th:only-of-type {\n",
       "        vertical-align: middle;\n",
       "    }\n",
       "\n",
       "    .dataframe tbody tr th {\n",
       "        vertical-align: top;\n",
       "    }\n",
       "\n",
       "    .dataframe thead th {\n",
       "        text-align: right;\n",
       "    }\n",
       "</style>\n",
       "<table border=\"1\" class=\"dataframe\">\n",
       "  <thead>\n",
       "    <tr style=\"text-align: right;\">\n",
       "      <th></th>\n",
       "      <th>Question</th>\n",
       "      <th>Answer</th>\n",
       "    </tr>\n",
       "  </thead>\n",
       "  <tbody>\n",
       "    <tr>\n",
       "      <th>0</th>\n",
       "      <td>What's the best anti diarrheal prescription?</td>\n",
       "      <td>Mycheexarphlexin</td>\n",
       "    </tr>\n",
       "    <tr>\n",
       "      <th>1</th>\n",
       "      <td>What do you call a person who is outside a doo...</td>\n",
       "      <td>Matt</td>\n",
       "    </tr>\n",
       "    <tr>\n",
       "      <th>2</th>\n",
       "      <td>Which Star Trek character is a member of the m...</td>\n",
       "      <td>Jean-Luc Pickacard</td>\n",
       "    </tr>\n",
       "    <tr>\n",
       "      <th>3</th>\n",
       "      <td>What's the difference between a bullet and a h...</td>\n",
       "      <td>A bullet doesn't miss Harambe</td>\n",
       "    </tr>\n",
       "    <tr>\n",
       "      <th>4</th>\n",
       "      <td>Why was the Ethiopian baby crying?</td>\n",
       "      <td>He was having a mid-life crisis</td>\n",
       "    </tr>\n",
       "  </tbody>\n",
       "</table>\n",
       "</div>"
      ],
      "text/plain": [
       "                                            Question  \\\n",
       "0       What's the best anti diarrheal prescription?   \n",
       "1  What do you call a person who is outside a doo...   \n",
       "2  Which Star Trek character is a member of the m...   \n",
       "3  What's the difference between a bullet and a h...   \n",
       "4                 Why was the Ethiopian baby crying?   \n",
       "\n",
       "                            Answer  \n",
       "0                 Mycheexarphlexin  \n",
       "1                             Matt  \n",
       "2               Jean-Luc Pickacard  \n",
       "3    A bullet doesn't miss Harambe  \n",
       "4  He was having a mid-life crisis  "
      ]
     },
     "execution_count": 4,
     "metadata": {},
     "output_type": "execute_result"
    }
   ],
   "source": [
    "wordball = pd.concat([qajokes, nosubj], ignore_index=True)\n",
    "wordball.head()"
   ]
  },
  {
   "cell_type": "code",
   "execution_count": 5,
   "metadata": {},
   "outputs": [
    {
     "name": "stdout",
     "output_type": "stream",
     "text": [
      "<class 'pandas.core.frame.DataFrame'>\n",
      "RangeIndex: 107234 entries, 0 to 107233\n",
      "Data columns (total 2 columns):\n",
      " #   Column    Non-Null Count   Dtype \n",
      "---  ------    --------------   ----- \n",
      " 0   Question  107234 non-null  object\n",
      " 1   Answer    103101 non-null  object\n",
      "dtypes: object(2)\n",
      "memory usage: 1.6+ MB\n"
     ]
    }
   ],
   "source": [
    "wordball.info()"
   ]
  },
  {
   "cell_type": "markdown",
   "metadata": {},
   "source": [
    "Preprocessing"
   ]
  },
  {
   "cell_type": "code",
   "execution_count": 6,
   "metadata": {},
   "outputs": [],
   "source": [
    "wordball = wordball.applymap(str)"
   ]
  },
  {
   "cell_type": "code",
   "execution_count": 7,
   "metadata": {},
   "outputs": [],
   "source": [
    "def distinct_chars(data, cols):\n",
    "    if cols is None:\n",
    "        cols = list(data.columns)\n",
    "        \n",
    "    questions = ' '.join(data[cols[0]])\n",
    "    answers = ' '.join(data[cols[1]])\n",
    "    \n",
    "    dis_chars = set(questions + answers)\n",
    "    print(\"Number of distinct characters used in the dataset: {}\".format(len(dis_chars)))\n",
    "    \n",
    "    dis_chars = list(dis_chars)\n",
    "    \n",
    "    digits = [char for char in dis_chars if char.isdigit()]\n",
    "    alphabets = [char for char in dis_chars if char.isalpha()]\n",
    "    special = [char for char in dis_chars if char not in digits and alphabets]\n",
    "    \n",
    "    digits = sorted(digits)\n",
    "    alphabets = sorted(alphabets)\n",
    "    special = sorted(special)\n",
    "    \n",
    "    print(\"Digits: {}\".format(digits))\n",
    "    print(\"Alphabets: {}\".format(alphabets))\n",
    "    print(\"Special characters: {}\".format(special))"
   ]
  },
  {
   "cell_type": "code",
   "execution_count": 8,
   "metadata": {},
   "outputs": [
    {
     "name": "stdout",
     "output_type": "stream",
     "text": [
      "Number of distinct characters used in the dataset: 120\n",
      "Digits: ['0', '1', '2', '3', '4', '5', '6', '7', '8', '9']\n",
      "Alphabets: ['A', 'B', 'C', 'D', 'E', 'F', 'G', 'H', 'I', 'J', 'K', 'L', 'M', 'N', 'O', 'P', 'Q', 'R', 'S', 'T', 'U', 'V', 'W', 'X', 'Y', 'Z', 'a', 'b', 'c', 'd', 'e', 'f', 'g', 'h', 'i', 'j', 'k', 'l', 'm', 'n', 'o', 'p', 'q', 'r', 's', 't', 'u', 'v', 'w', 'x', 'y', 'z', 'ß', 'è', 'é', 'ñ', 'ó', 'ö', 'ü']\n",
      "Special characters: [' ', '!', '\"', '#', '$', '%', '&', \"'\", '(', ')', '*', '+', ',', '-', '.', '/', ':', ';', '<', '=', '>', '?', '@', 'A', 'B', 'C', 'D', 'E', 'F', 'G', 'H', 'I', 'J', 'K', 'L', 'M', 'N', 'O', 'P', 'Q', 'R', 'S', 'T', 'U', 'V', 'W', 'X', 'Y', 'Z', '[', '\\\\', ']', '^', '_', '`', 'a', 'b', 'c', 'd', 'e', 'f', 'g', 'h', 'i', 'j', 'k', 'l', 'm', 'n', 'o', 'p', 'q', 'r', 's', 't', 'u', 'v', 'w', 'x', 'y', 'z', '{', '|', '}', '~', '\\xa0', '¡', '¤', '«', '°', '»', '¿', 'ß', 'è', 'é', 'ñ', 'ó', 'ö', 'ü', '\\u200b', '–', '—', '‘', '’', '“', '”', '…', '™', '\\ufeff', '🎺']\n"
     ]
    }
   ],
   "source": [
    "distinct_chars(wordball, ['Question', 'Answer'])"
   ]
  },
  {
   "cell_type": "code",
   "execution_count": 15,
   "metadata": {},
   "outputs": [],
   "source": [
    "import re \n",
    "\n",
    "def clean_text(text):\n",
    "    text = str(text)\n",
    "    \n",
    "    text = re.sub('\\\"', '\\'', text)\n",
    "    text = re.sub(\"“\", '\\'', text)\n",
    "    text = re.sub(\"”\", '\\'', text)\n",
    "    text = re.sub('’', '\\'', text)\n",
    "    text = re.sub('\\[', '(', text)\n",
    "    text = re.sub('\\]', ')', text)\n",
    "    text = re.sub('\\{', '(', text)\n",
    "    text = re.sub('\\}', ')', text)\n",
    "    \n",
    "    text = re.sub(\"([?.!,:;'?!+\\-*/=%$@&()])\", r\" \\1 \", text)\n",
    "    pattern = re.compile('[^a-zA-Z0-9_\\.\\,\\:\\;\\'\\?\\!\\+\\-\\*\\/\\=\\%\\$\\@\\&\\(\\)]')\n",
    "    text = re.sub(pattern, ' ', text)\n",
    "    \n",
    "    text = text.lower()\n",
    "    text = re.sub(' +', ' ', text)\n",
    "    text = text.strip()\n",
    "    \n",
    "    return text"
   ]
  },
  {
   "cell_type": "code",
   "execution_count": 16,
   "metadata": {},
   "outputs": [],
   "source": [
    "def print_question_answer(df, index, cols):\n",
    "    print(f\"Question: ({index})\")\n",
    "    print(df.loc[index][cols[0]])\n",
    "    print(f\"Answer: ({index})\")\n",
    "    print(df.loc[index][cols[1]])"
   ]
  },
  {
   "cell_type": "code",
   "execution_count": 17,
   "metadata": {},
   "outputs": [
    {
     "name": "stdout",
     "output_type": "stream",
     "text": [
      "Question: (94351)\n",
      "(thomas edison prank call ) is your refrigerator running\n",
      "Answer: (94351)\n",
      "'yes . . ' you 're welcome ! *click *\n"
     ]
    }
   ],
   "source": [
    "print_question_answer(wordball, 94351, ['Question', 'Answer'])"
   ]
  },
  {
   "cell_type": "code",
   "execution_count": 18,
   "metadata": {},
   "outputs": [],
   "source": [
    "wordball = wordball.applymap(clean_text)"
   ]
  },
  {
   "cell_type": "code",
   "execution_count": 19,
   "metadata": {},
   "outputs": [
    {
     "name": "stdout",
     "output_type": "stream",
     "text": [
      "Question: (94351)\n",
      "( thomas edison prank call ) is your refrigerator running\n",
      "Answer: (94351)\n",
      "' yes . . ' you ' re welcome ! * click *\n"
     ]
    }
   ],
   "source": [
    "print_question_answer(wordball, 94351, ['Question', 'Answer'])"
   ]
  },
  {
   "cell_type": "code",
   "execution_count": 20,
   "metadata": {},
   "outputs": [],
   "source": [
    "def preprocess(data, cols):\n",
    "    data_len_before = len(data)\n",
    "    print(f\"Number of examples before removing duplicates: {data_len_before}\")\n",
    "    data = data.drop_duplicates(keep='first')\n",
    "    data_len_after = len(data)\n",
    "    print(f\"Number of examples after removing duplicates: {data_len_after}\")\n",
    "    print(f\"Number of duplicates removed: {data_len_before-data_len_after}\")\n",
    "    \n",
    "    if cols is None:\n",
    "        cols = list(data.columns)\n",
    "    \n",
    "    data_len_before = len(data)\n",
    "    print(f\"Number of examples before removing rows with empty strings: {data_len_before}\")\n",
    "    data = data[(data[cols[0]] != \"\") & (data[cols[1]] != \"\")]\n",
    "    data_len_after = len(data)\n",
    "    print(f\"Number of examples after removing the empty strings: {data_len_after}\")\n",
    "    print(f\"Number of removed empty strings: {data_len_before-data_len_after}\")\n",
    "    \n",
    "    def accepted_length(qa_pair):\n",
    "        q_len = len(qa_pair[0].split(' '))\n",
    "        a_len = len(qa_pair[1].split(' '))\n",
    "        if (q_len <= 30) & ((a_len <= 30) & (len(qa_pair[1]) > 1)):\n",
    "            return True\n",
    "        return False \n",
    "    \n",
    "    data_len_before = len(data)\n",
    "    print(f\"Number of examples before removing rows with more than 30 words: {data_len_before}\")\n",
    "    accepted_mask = data.apply(accepted_length, axis=1)\n",
    "    data = data[accepted_mask]\n",
    "    data_len_after = len(data)\n",
    "    print(f\"Number of examples after removing rows with more than 30 words: {data_len_after}\")\n",
    "    print(f\"Number of removed rows with more than 30 words: {data_len_before-data_len_after}\")\n",
    "    \n",
    "    return data"
   ]
  },
  {
   "cell_type": "code",
   "execution_count": 21,
   "metadata": {},
   "outputs": [
    {
     "name": "stdout",
     "output_type": "stream",
     "text": [
      "Number of examples before removing duplicates: 107234\n",
      "Number of examples after removing duplicates: 107144\n",
      "Number of duplicates removed: 90\n",
      "Number of examples before removing rows with empty strings: 107144\n",
      "Number of examples after removing the empty strings: 107054\n",
      "Number of removed empty strings: 90\n",
      "Number of examples before removing rows with more than 30 words: 107054\n",
      "Number of examples after removing rows with more than 30 words: 101712\n",
      "Number of removed rows with more than 30 words: 5342\n"
     ]
    }
   ],
   "source": [
    "wordball = preprocess(wordball, ['Question', 'Answer'])"
   ]
  },
  {
   "cell_type": "code",
   "execution_count": 22,
   "metadata": {},
   "outputs": [
    {
     "data": {
      "text/plain": [
       "101712"
      ]
     },
     "execution_count": 22,
     "metadata": {},
     "output_type": "execute_result"
    }
   ],
   "source": [
    "len(wordball)"
   ]
  },
  {
   "cell_type": "code",
   "execution_count": 23,
   "metadata": {},
   "outputs": [
    {
     "name": "stdout",
     "output_type": "stream",
     "text": [
      "Number of distinct characters used in the dataset: 56\n",
      "Digits: ['0', '1', '2', '3', '4', '5', '6', '7', '8', '9']\n",
      "Alphabets: ['a', 'b', 'c', 'd', 'e', 'f', 'g', 'h', 'i', 'j', 'k', 'l', 'm', 'n', 'o', 'p', 'q', 'r', 's', 't', 'u', 'v', 'w', 'x', 'y', 'z']\n",
      "Special characters: [' ', '!', '$', '%', '&', \"'\", '(', ')', '*', '+', ',', '-', '.', '/', ':', ';', '=', '?', '@', '_', 'a', 'b', 'c', 'd', 'e', 'f', 'g', 'h', 'i', 'j', 'k', 'l', 'm', 'n', 'o', 'p', 'q', 'r', 's', 't', 'u', 'v', 'w', 'x', 'y', 'z']\n"
     ]
    }
   ],
   "source": [
    "distinct_chars(wordball, ['Question', 'Answer'])"
   ]
  },
  {
   "cell_type": "markdown",
   "metadata": {},
   "source": [
    "Second Dataset"
   ]
  },
  {
   "cell_type": "code",
   "execution_count": 47,
   "metadata": {},
   "outputs": [],
   "source": [
    "reddit_jokes = pd.read_csv('../data/jokes_score_name_clean.csv', usecols=['q', 'a'])"
   ]
  },
  {
   "cell_type": "code",
   "execution_count": 48,
   "metadata": {},
   "outputs": [],
   "source": [
    "reddit_jokes.rename(columns={'q': 'Question', 'a': 'Answer'}, inplace=True)"
   ]
  },
  {
   "cell_type": "code",
   "execution_count": 49,
   "metadata": {},
   "outputs": [
    {
     "data": {
      "text/html": [
       "<div>\n",
       "<style scoped>\n",
       "    .dataframe tbody tr th:only-of-type {\n",
       "        vertical-align: middle;\n",
       "    }\n",
       "\n",
       "    .dataframe tbody tr th {\n",
       "        vertical-align: top;\n",
       "    }\n",
       "\n",
       "    .dataframe thead th {\n",
       "        text-align: right;\n",
       "    }\n",
       "</style>\n",
       "<table border=\"1\" class=\"dataframe\">\n",
       "  <thead>\n",
       "    <tr style=\"text-align: right;\">\n",
       "      <th></th>\n",
       "      <th>Question</th>\n",
       "      <th>Answer</th>\n",
       "    </tr>\n",
       "  </thead>\n",
       "  <tbody>\n",
       "    <tr>\n",
       "      <th>0</th>\n",
       "      <td>I enjoy working in a slaughterhouse..</td>\n",
       "      <td>Everything is so cut and dry.</td>\n",
       "    </tr>\n",
       "    <tr>\n",
       "      <th>1</th>\n",
       "      <td>What do you call a soldier who survives Mustar...</td>\n",
       "      <td>A seasoned veteran.</td>\n",
       "    </tr>\n",
       "    <tr>\n",
       "      <th>2</th>\n",
       "      <td>I really like white dwarf stars...</td>\n",
       "      <td>...My favorite is Peter Dinklage.</td>\n",
       "    </tr>\n",
       "    <tr>\n",
       "      <th>3</th>\n",
       "      <td>Knock knock. Whose their?</td>\n",
       "      <td>The grammar police.</td>\n",
       "    </tr>\n",
       "    <tr>\n",
       "      <th>4</th>\n",
       "      <td>What breaks when you give it to a twelve year ...</td>\n",
       "      <td>Her hips.</td>\n",
       "    </tr>\n",
       "  </tbody>\n",
       "</table>\n",
       "</div>"
      ],
      "text/plain": [
       "                                            Question  \\\n",
       "0              I enjoy working in a slaughterhouse..   \n",
       "1  What do you call a soldier who survives Mustar...   \n",
       "2                 I really like white dwarf stars...   \n",
       "3                          Knock knock. Whose their?   \n",
       "4  What breaks when you give it to a twelve year ...   \n",
       "\n",
       "                               Answer  \n",
       "0       Everything is so cut and dry.  \n",
       "1                A seasoned veteran.   \n",
       "2  ...My favorite is Peter Dinklage.   \n",
       "3                 The grammar police.  \n",
       "4                          Her hips.   "
      ]
     },
     "execution_count": 49,
     "metadata": {},
     "output_type": "execute_result"
    }
   ],
   "source": [
    "reddit_jokes.head()"
   ]
  },
  {
   "cell_type": "code",
   "execution_count": 50,
   "metadata": {},
   "outputs": [
    {
     "data": {
      "text/plain": [
       "133328"
      ]
     },
     "execution_count": 50,
     "metadata": {},
     "output_type": "execute_result"
    }
   ],
   "source": [
    "len(reddit_jokes)"
   ]
  },
  {
   "cell_type": "code",
   "execution_count": 51,
   "metadata": {},
   "outputs": [],
   "source": [
    "reddit_jokes = reddit_jokes.applymap(str)"
   ]
  },
  {
   "cell_type": "code",
   "execution_count": 52,
   "metadata": {},
   "outputs": [
    {
     "name": "stdout",
     "output_type": "stream",
     "text": [
      "Number of distinct characters used in the dataset: 567\n",
      "Digits: ['0', '1', '2', '3', '4', '5', '6', '7', '8', '9', '²', '³', '¹', '₂', '₄']\n",
      "Alphabets: ['A', 'B', 'C', 'D', 'E', 'F', 'G', 'H', 'I', 'J', 'K', 'L', 'M', 'N', 'O', 'P', 'Q', 'R', 'S', 'T', 'U', 'V', 'W', 'X', 'Y', 'Z', 'a', 'b', 'c', 'd', 'e', 'f', 'g', 'h', 'i', 'j', 'k', 'l', 'm', 'n', 'o', 'p', 'q', 'r', 's', 't', 'u', 'v', 'w', 'x', 'y', 'z', 'µ', 'º', 'Ä', 'Ñ', 'Ö', 'ß', 'à', 'á', 'ã', 'ä', 'å', 'æ', 'ç', 'è', 'é', 'ê', 'ë', 'ì', 'í', 'î', 'ï', 'ñ', 'ò', 'ó', 'ô', 'õ', 'ö', 'ø', 'ù', 'ú', 'û', 'ü', 'þ', 'ā', 'ē', 'ě', 'ı', 'ń', 'ō', 'œ', 'ƃ', 'Ɔ', 'ǎ', 'ǐ', 'ǒ', 'ǚ', 'ǝ', 'ɐ', 'ɑ', 'ɔ', 'ə', 'ɟ', 'ɡ', 'ɥ', 'ɪ', 'ɯ', 'ɴ', 'ɹ', 'ɾ', 'ʇ', 'ʌ', 'ʍ', 'ʎ', 'ʏ', 'ʖ', 'ʘ', 'ʞ', 'ʟ', 'ʰ', 'ʲ', 'ʳ', 'ʷ', 'ʸ', 'ˈ', 'ˢ', 'Δ', 'Π', 'Σ', 'ί', 'α', 'κ', 'λ', 'μ', 'ν', 'π', 'ρ', 'ω', 'ϱ', 'А', 'Д', 'К', 'Т', 'а', 'е', 'л', 'м', 'о', 'т', 'ш', 'я', 'Ԁ', 'א', 'ב', 'ג', 'ה', 'ו', 'ז', 'ח', 'ט', 'י', 'ך', 'כ', 'ל', 'ם', 'ן', 'נ', 'ע', 'פ', 'צ', 'ק', 'ר', 'ש', 'ת', 'ॐ', 'ಠ', 'ᴀ', 'ᴄ', 'ᴅ', 'ᴇ', 'ᴉ', 'ᴍ', 'ᴏ', 'ᴘ', 'ᴛ', 'ᴜ', 'ᵃ', 'ᵇ', 'ᵈ', 'ᵉ', 'ᵒ', 'ᵖ', 'ᵗ', 'ᵘ', 'ᵛ', 'ᶦ', 'ᶫ', 'ᶰ', 'ḱ', 'ễ', 'ツ', 'ヮ', '一', '两', '个', '为', '主', '么', '了', '人', '什', '他', '但', '你', '做', '傲', '儿', '兴', '再', '卖', '向', '呀', '呢', '咦', '咩', '啲', '喺', '地', '块', '天', '女', '她', '好', '妈', '子', '孩', '对', '小', '干', '度', '很', '感', '我', '斋', '昨', '是', '杯', '林', '果', '浮', '狗', '男', '白', '的', '真', '穷', '笑', '糖', '緊', '给', '老', '要', '说', '趣', '那', '钱', '隻', '骄', 'ﬁ', 'ﾟ']\n",
      "Special characters: ['\\x08', '\\t', '\\n', '\\r', '\\x19', '\\x1c', '\\x1d', ' ', '!', '\"', '#', '$', '%', '&', \"'\", '(', ')', '*', '+', ',', '-', '.', '/', ':', ';', '<', '=', '>', '?', '@', 'A', 'B', 'C', 'D', 'E', 'F', 'G', 'H', 'I', 'J', 'K', 'L', 'M', 'N', 'O', 'P', 'Q', 'R', 'S', 'T', 'U', 'V', 'W', 'X', 'Y', 'Z', '[', '\\\\', ']', '^', '_', '`', 'a', 'b', 'c', 'd', 'e', 'f', 'g', 'h', 'i', 'j', 'k', 'l', 'm', 'n', 'o', 'p', 'q', 'r', 's', 't', 'u', 'v', 'w', 'x', 'y', 'z', '{', '|', '}', '~', '\\x92', '\\x93', '\\x94', '\\x9d', '\\xa0', '¡', '¢', '£', '¥', '«', '\\xad', '®', '¯', '°', '´', 'µ', '·', 'º', '»', '¾', '¿', 'Ä', 'Ñ', 'Ö', '×', 'ß', 'à', 'á', 'ã', 'ä', 'å', 'æ', 'ç', 'è', 'é', 'ê', 'ë', 'ì', 'í', 'î', 'ï', 'ñ', 'ò', 'ó', 'ô', 'õ', 'ö', 'ø', 'ù', 'ú', 'û', 'ü', 'þ', 'ā', 'ē', 'ě', 'ı', 'ń', 'ō', 'œ', 'ƃ', 'Ɔ', 'ǎ', 'ǐ', 'ǒ', 'ǚ', 'ǝ', 'ɐ', 'ɑ', 'ɔ', 'ə', 'ɟ', 'ɡ', 'ɥ', 'ɪ', 'ɯ', 'ɴ', 'ɹ', 'ɾ', 'ʇ', 'ʌ', 'ʍ', 'ʎ', 'ʏ', 'ʖ', 'ʘ', 'ʞ', 'ʟ', 'ʰ', 'ʲ', 'ʳ', 'ʷ', 'ʸ', 'ˈ', '˙', '˚', '˜', 'ˢ', '̕', '̖', '̗', '̘', '̙', '̛', '̜', '̝', '̞', '̟', '̠', '̡', '̢', '̣', '̤', '̥', '̦', '̧', '̨', '̩', '̪', '̫', '̬', '̭', '̮', '̯', '̰', '̱', '̲', '̳', '̴', '̵', '̶', '̷', '̸', '̹', '̺', '̻', '̼', '̀', '́', 'ͅ', '͇', '͈', '͉', '͍', '͎', '͏', '͓', '͔', '͕', '͖', '͘', '͙', '͚', '͜', '͞', '͟', '͠', '͡', '͢', 'Δ', 'Π', 'Σ', 'ί', 'α', 'κ', 'λ', 'μ', 'ν', 'π', 'ρ', 'ω', 'ϱ', 'А', 'Д', 'К', 'Т', 'а', 'е', 'л', 'м', 'о', 'т', 'ш', 'я', '҉', 'Ԁ', 'א', 'ב', 'ג', 'ה', 'ו', 'ז', 'ח', 'ט', 'י', 'ך', 'כ', 'ל', 'ם', 'ן', 'נ', 'ע', 'פ', 'צ', 'ק', 'ר', 'ש', 'ת', 'ॐ', 'ಠ', 'ᴀ', 'ᴄ', 'ᴅ', 'ᴇ', 'ᴉ', 'ᴍ', 'ᴏ', 'ᴘ', 'ᴛ', 'ᴜ', 'ᵃ', 'ᵇ', 'ᵈ', 'ᵉ', 'ᵒ', 'ᵖ', 'ᵗ', 'ᵘ', 'ᵛ', 'ᶦ', 'ᶫ', 'ᶰ', 'ḱ', 'ễ', '\\u2000', '\\u2009', '\\u200b', '\\u200e', '\\u200f', '–', '—', '―', '‘', '’', '‚', '“', '”', '„', '†', '•', '…', '\\u202a', '\\u202c', '′', '″', '‽', '⁄', '\\u206a', '€', '₱', '℉', '™', '⅄', '←', '↑', '→', '↓', '∀', '∆', '∑', '−', '√', '∫', '≤', '⌐', '⌘', '─', '╤', '╦', '╭', '╮', '█', '■', '□', '◊', '☀', '☝', '☞', '☹', '☺', '☼', '♡', '♥', '♦', '♨', '♪', '♫', '♭', '♻', '✂', '✈', '✌', '✏', '✓', '✔', '❤', '⟹', '⠁', '⠊', '⠙', '⠝', '⠠', '⬅', '\\u3000', '。', '「', '」', 'ツ', 'ヮ', '一', '两', '个', '为', '主', '么', '了', '人', '什', '他', '但', '你', '做', '傲', '儿', '兴', '再', '卖', '向', '呀', '呢', '咦', '咩', '啲', '喺', '地', '块', '天', '女', '她', '好', '妈', '子', '孩', '对', '小', '干', '度', '很', '感', '我', '斋', '昨', '是', '杯', '林', '果', '浮', '狗', '男', '白', '的', '真', '穷', '笑', '糖', '緊', '给', '老', '要', '说', '趣', '那', '钱', '隻', '骄', 'ﬁ', '️', '︻', '\\ufeff', '，', '：', '？', 'ﾟ', '￡', '�', '🅱', '🇧', '🇩', '🇪', '🇷', '🇸', '🇺', '🍞', '🍻', '🎤', '🎵', '🎶', '🎷', '🎺', '🏆', '🏢', '🐯', '👍', '💀', '😀', '😁', '😂', '😃', '😄', '😅', '😆', '😈', '😉', '😊', '😋', '😌', '😎', '😏', '😐', '😑', '😕', '😘', '😛', '😜', '😝', '😟', '😡', '😢', '😣', '😥', '😦', '😨', '😩', '😫', '😭', '😮', '😱', '😳', '😶', '🙂', '🙄', '🙏', '🚜', '🤓', '🤔', '🤗', '🤣', '🥁', '🦀', '🧀']\n"
     ]
    }
   ],
   "source": [
    "distinct_chars(reddit_jokes, reddit_jokes.columns)"
   ]
  },
  {
   "cell_type": "code",
   "execution_count": 53,
   "metadata": {},
   "outputs": [],
   "source": [
    "def clean_reddit_tags(data, cols):\n",
    "    if cols is None:\n",
    "        cols = list(data.columns)\n",
    "        \n",
    "    data_copy = data.copy()\n",
    "    data_copy[cols[0]] = data_copy[cols[0]].str.lower()\n",
    "    data_copy[cols[1]] = data_copy[cols[1]].str.lower()\n",
    "    \n",
    "    mask_set = ['[removed]', '[deleted]', '[censored]']\n",
    "    mask = data_copy.apply(\n",
    "        lambda qa_pair: False if (qa_pair[0] in mask_set) | (qa_pair[1] in mask_set) else True,\n",
    "        axis=1\n",
    "    )\n",
    "    before = len(data)\n",
    "    data = data[mask]\n",
    "    after = len(data)\n",
    "    print(f\"Number of rows dropped with [deleted], [removed] or [censored] tags: {before-after}\")\n",
    "    \n",
    "    def sub_tag(pair):\n",
    "        p = re.compile(\"\\[(.*?)\\]\")\n",
    "        pair[0] = re.sub(p, \" \", pair[0])\n",
    "        pair[1] = re.sub(p, ' ', pair[1])\n",
    "        \n",
    "        return pair \n",
    "    \n",
    "    data = data.apply(sub_tag, axis=1)\n",
    "    return data"
   ]
  },
  {
   "cell_type": "code",
   "execution_count": 54,
   "metadata": {},
   "outputs": [
    {
     "name": "stdout",
     "output_type": "stream",
     "text": [
      "Number of rows dropped with [deleted], [removed] or [censored] tags: 211\n"
     ]
    }
   ],
   "source": [
    "reddit_jokes = clean_reddit_tags(reddit_jokes, reddit_jokes.columns)"
   ]
  },
  {
   "cell_type": "code",
   "execution_count": 55,
   "metadata": {},
   "outputs": [
    {
     "data": {
      "text/html": [
       "<div>\n",
       "<style scoped>\n",
       "    .dataframe tbody tr th:only-of-type {\n",
       "        vertical-align: middle;\n",
       "    }\n",
       "\n",
       "    .dataframe tbody tr th {\n",
       "        vertical-align: top;\n",
       "    }\n",
       "\n",
       "    .dataframe thead th {\n",
       "        text-align: right;\n",
       "    }\n",
       "</style>\n",
       "<table border=\"1\" class=\"dataframe\">\n",
       "  <thead>\n",
       "    <tr style=\"text-align: right;\">\n",
       "      <th></th>\n",
       "      <th>Question</th>\n",
       "      <th>Answer</th>\n",
       "    </tr>\n",
       "  </thead>\n",
       "  <tbody>\n",
       "    <tr>\n",
       "      <th>0</th>\n",
       "      <td>I enjoy working in a slaughterhouse..</td>\n",
       "      <td>Everything is so cut and dry.</td>\n",
       "    </tr>\n",
       "    <tr>\n",
       "      <th>1</th>\n",
       "      <td>What do you call a soldier who survives Mustar...</td>\n",
       "      <td>A seasoned veteran.</td>\n",
       "    </tr>\n",
       "    <tr>\n",
       "      <th>2</th>\n",
       "      <td>I really like white dwarf stars...</td>\n",
       "      <td>...My favorite is Peter Dinklage.</td>\n",
       "    </tr>\n",
       "    <tr>\n",
       "      <th>3</th>\n",
       "      <td>Knock knock. Whose their?</td>\n",
       "      <td>The grammar police.</td>\n",
       "    </tr>\n",
       "    <tr>\n",
       "      <th>4</th>\n",
       "      <td>What breaks when you give it to a twelve year ...</td>\n",
       "      <td>Her hips.</td>\n",
       "    </tr>\n",
       "  </tbody>\n",
       "</table>\n",
       "</div>"
      ],
      "text/plain": [
       "                                            Question  \\\n",
       "0              I enjoy working in a slaughterhouse..   \n",
       "1  What do you call a soldier who survives Mustar...   \n",
       "2                 I really like white dwarf stars...   \n",
       "3                          Knock knock. Whose their?   \n",
       "4  What breaks when you give it to a twelve year ...   \n",
       "\n",
       "                               Answer  \n",
       "0       Everything is so cut and dry.  \n",
       "1                A seasoned veteran.   \n",
       "2  ...My favorite is Peter Dinklage.   \n",
       "3                 The grammar police.  \n",
       "4                          Her hips.   "
      ]
     },
     "execution_count": 55,
     "metadata": {},
     "output_type": "execute_result"
    }
   ],
   "source": [
    "reddit_jokes.head()"
   ]
  },
  {
   "cell_type": "code",
   "execution_count": 56,
   "metadata": {},
   "outputs": [],
   "source": [
    "reddit_jokes = reddit_jokes.applymap(clean_text)"
   ]
  },
  {
   "cell_type": "code",
   "execution_count": 57,
   "metadata": {},
   "outputs": [
    {
     "name": "stdout",
     "output_type": "stream",
     "text": [
      "Number of examples before removing duplicates: 133117\n",
      "Number of examples after removing duplicates: 128037\n",
      "Number of duplicates removed: 5080\n",
      "Number of examples before removing rows with empty strings: 128037\n",
      "Number of examples after removing the empty strings: 127947\n",
      "Number of removed empty strings: 90\n",
      "Number of examples before removing rows with more than 30 words: 127947\n",
      "Number of examples after removing rows with more than 30 words: 89002\n",
      "Number of removed rows with more than 30 words: 38945\n"
     ]
    }
   ],
   "source": [
    "reddit_jokes = preprocess(reddit_jokes, reddit_jokes.columns)"
   ]
  },
  {
   "cell_type": "code",
   "execution_count": 58,
   "metadata": {},
   "outputs": [
    {
     "name": "stdout",
     "output_type": "stream",
     "text": [
      "Number of distinct characters used in the dataset: 56\n",
      "Digits: ['0', '1', '2', '3', '4', '5', '6', '7', '8', '9']\n",
      "Alphabets: ['a', 'b', 'c', 'd', 'e', 'f', 'g', 'h', 'i', 'j', 'k', 'l', 'm', 'n', 'o', 'p', 'q', 'r', 's', 't', 'u', 'v', 'w', 'x', 'y', 'z']\n",
      "Special characters: [' ', '!', '$', '%', '&', \"'\", '(', ')', '*', '+', ',', '-', '.', '/', ':', ';', '=', '?', '@', '_', 'a', 'b', 'c', 'd', 'e', 'f', 'g', 'h', 'i', 'j', 'k', 'l', 'm', 'n', 'o', 'p', 'q', 'r', 's', 't', 'u', 'v', 'w', 'x', 'y', 'z']\n"
     ]
    }
   ],
   "source": [
    "distinct_chars(reddit_jokes, reddit_jokes.columns)"
   ]
  },
  {
   "cell_type": "markdown",
   "metadata": {},
   "source": [
    "Third Dataset"
   ]
  },
  {
   "cell_type": "code",
   "execution_count": 59,
   "metadata": {},
   "outputs": [
    {
     "data": {
      "text/html": [
       "<div>\n",
       "<style scoped>\n",
       "    .dataframe tbody tr th:only-of-type {\n",
       "        vertical-align: middle;\n",
       "    }\n",
       "\n",
       "    .dataframe tbody tr th {\n",
       "        vertical-align: top;\n",
       "    }\n",
       "\n",
       "    .dataframe thead th {\n",
       "        text-align: right;\n",
       "    }\n",
       "</style>\n",
       "<table border=\"1\" class=\"dataframe\">\n",
       "  <thead>\n",
       "    <tr style=\"text-align: right;\">\n",
       "      <th></th>\n",
       "      <th>Question</th>\n",
       "      <th>Answer</th>\n",
       "    </tr>\n",
       "  </thead>\n",
       "  <tbody>\n",
       "    <tr>\n",
       "      <th>0</th>\n",
       "      <td>Did you hear about the Native American man tha...</td>\n",
       "      <td>He nearly drown in his own tea pee.</td>\n",
       "    </tr>\n",
       "    <tr>\n",
       "      <th>1</th>\n",
       "      <td>What's the best anti diarrheal prescription?</td>\n",
       "      <td>Mycheexarphlexin</td>\n",
       "    </tr>\n",
       "    <tr>\n",
       "      <th>2</th>\n",
       "      <td>What do you call a person who is outside a doo...</td>\n",
       "      <td>Matt</td>\n",
       "    </tr>\n",
       "    <tr>\n",
       "      <th>3</th>\n",
       "      <td>Which Star Trek character is a member of the m...</td>\n",
       "      <td>Jean-Luc Pickacard</td>\n",
       "    </tr>\n",
       "    <tr>\n",
       "      <th>4</th>\n",
       "      <td>What's the difference between a bullet and a h...</td>\n",
       "      <td>A bullet doesn't miss Harambe</td>\n",
       "    </tr>\n",
       "  </tbody>\n",
       "</table>\n",
       "</div>"
      ],
      "text/plain": [
       "                                            Question  \\\n",
       "0  Did you hear about the Native American man tha...   \n",
       "1       What's the best anti diarrheal prescription?   \n",
       "2  What do you call a person who is outside a doo...   \n",
       "3  Which Star Trek character is a member of the m...   \n",
       "4  What's the difference between a bullet and a h...   \n",
       "\n",
       "                                Answer  \n",
       "0  He nearly drown in his own tea pee.  \n",
       "1                     Mycheexarphlexin  \n",
       "2                                 Matt  \n",
       "3                   Jean-Luc Pickacard  \n",
       "4        A bullet doesn't miss Harambe  "
      ]
     },
     "execution_count": 59,
     "metadata": {},
     "output_type": "execute_result"
    }
   ],
   "source": [
    "jokes = pd.read_csv('../data/jokes.csv', usecols=['Question', 'Answer'])\n",
    "jokes.head()"
   ]
  },
  {
   "cell_type": "code",
   "execution_count": 61,
   "metadata": {},
   "outputs": [],
   "source": [
    "jokes = jokes.applymap(str)"
   ]
  },
  {
   "cell_type": "code",
   "execution_count": 62,
   "metadata": {},
   "outputs": [
    {
     "name": "stdout",
     "output_type": "stream",
     "text": [
      "Number of distinct characters used in the dataset: 237\n",
      "Digits: ['0', '1', '2', '3', '4', '5', '6', '7', '8', '9', '³', '౪', '₄']\n",
      "Alphabets: ['A', 'B', 'C', 'D', 'E', 'F', 'G', 'H', 'I', 'J', 'K', 'L', 'M', 'N', 'O', 'P', 'Q', 'R', 'S', 'T', 'U', 'V', 'W', 'X', 'Y', 'Z', 'a', 'b', 'c', 'd', 'e', 'f', 'g', 'h', 'i', 'j', 'k', 'l', 'm', 'n', 'o', 'p', 'q', 'r', 's', 't', 'u', 'v', 'w', 'x', 'y', 'z', 'È', 'É', 'Ñ', 'ß', 'á', 'ä', 'å', 'æ', 'è', 'é', 'ê', 'ì', 'í', 'î', 'ï', 'ñ', 'ò', 'ó', 'õ', 'ö', 'ø', 'ù', 'ú', 'û', 'ü', 'Đ', 'ı', 'ō', 'œ', 'ʃ', 'ʅ', 'ʖ', 'Α', 'Μ', 'Ω', 'ά', 'ε', 'ζ', 'η', 'θ', 'κ', 'μ', 'π', 'ρ', 'ς', 'С', 'б', 'е', 'и', 'н', 'р', 'т', 'ь', 'ॐ', 'ಠ', 'ứ', 'づ', 'ツ', '丁', '二', '喲', '媽', '崇', '常', '清', '胖', '董', '這', '麼', '빵']\n",
      "Special characters: [' ', '!', '\"', '#', '$', '%', '&', \"'\", '(', ')', '*', '+', ',', '-', '.', '/', ':', ';', '<', '=', '>', '?', '@', 'A', 'B', 'C', 'D', 'E', 'F', 'G', 'H', 'I', 'J', 'K', 'L', 'M', 'N', 'O', 'P', 'Q', 'R', 'S', 'T', 'U', 'V', 'W', 'X', 'Y', 'Z', '[', '\\\\', ']', '^', '_', '`', 'a', 'b', 'c', 'd', 'e', 'f', 'g', 'h', 'i', 'j', 'k', 'l', 'm', 'n', 'o', 'p', 'q', 'r', 's', 't', 'u', 'v', 'w', 'x', 'y', 'z', '{', '|', '}', '~', '\\xa0', '¡', '£', '¤', '©', '«', '¬', '\\xad', '®', '¯', '°', '´', '·', '»', '¿', 'È', 'É', 'Ñ', '×', 'ß', 'á', 'ä', 'å', 'æ', 'è', 'é', 'ê', 'ì', 'í', 'î', 'ï', 'ñ', 'ò', 'ó', 'õ', 'ö', 'ø', 'ù', 'ú', 'û', 'ü', 'Đ', 'ı', 'ō', 'œ', 'ʃ', 'ʅ', 'ʖ', '̨', '̸', '͜', '͡', 'Α', 'Μ', 'Ω', 'ά', 'ε', 'ζ', 'η', 'θ', 'κ', 'μ', 'π', 'ρ', 'ς', 'С', 'б', 'е', 'и', 'н', 'р', 'т', 'ь', 'ॐ', 'ಠ', 'ứ', '\\u200a', '\\u200b', '\\u200e', '–', '—', '‘', '’', '“', '”', '•', '…', '\\u202a', '€', '™', '−', '√', '∞', '∫', '≠', '⌐', '─', '╤', '╦', '■', '◔', '♪', '⚡', '✈', '✏', '➕', 'づ', 'ツ', '丁', '二', '喲', '媽', '崇', '常', '清', '胖', '董', '這', '麼', '빵', '️', '︻', '\\ufeff', '，', '🎺', '🏢', '👌', '👍', '💩', '😀', '😂', '😃', '😆', '😏', '😔', '😜', '😳', '🙇', '🤘']\n"
     ]
    }
   ],
   "source": [
    "distinct_chars(jokes, jokes.columns)"
   ]
  },
  {
   "cell_type": "code",
   "execution_count": 63,
   "metadata": {},
   "outputs": [],
   "source": [
    "def remove_prefixes(pair):\n",
    "    if ('Q:' in pair[0]) and ('A:' in pair[1]) and ('Q:' not in pair[1]):\n",
    "        pair[0] = pair[0].replace('Q:', '')\n",
    "        pair[1] = pair[1].replace('A:', '')\n",
    "    elif ('A:' in pair[1]) and ('Q:' in pair[1]):\n",
    "        pair[0] = pair[0].replace('Q:', '')\n",
    "        q_start = pair[1].find('Q:') + 2\n",
    "        q_end = pair[1].find('A:')\n",
    "        q_text = pair[1][q_start:q_end].strip()\n",
    "        if q_text == pair[0].strip():\n",
    "            pair[1] = pair[1][q_end+2:].strip()\n",
    "    \n",
    "    return pair "
   ]
  },
  {
   "cell_type": "code",
   "execution_count": 64,
   "metadata": {},
   "outputs": [],
   "source": [
    "jokes = jokes.apply(remove_prefixes, axis=1)"
   ]
  },
  {
   "cell_type": "code",
   "execution_count": 65,
   "metadata": {},
   "outputs": [
    {
     "data": {
      "text/html": [
       "<div>\n",
       "<style scoped>\n",
       "    .dataframe tbody tr th:only-of-type {\n",
       "        vertical-align: middle;\n",
       "    }\n",
       "\n",
       "    .dataframe tbody tr th {\n",
       "        vertical-align: top;\n",
       "    }\n",
       "\n",
       "    .dataframe thead th {\n",
       "        text-align: right;\n",
       "    }\n",
       "</style>\n",
       "<table border=\"1\" class=\"dataframe\">\n",
       "  <thead>\n",
       "    <tr style=\"text-align: right;\">\n",
       "      <th></th>\n",
       "      <th>Question</th>\n",
       "      <th>Answer</th>\n",
       "    </tr>\n",
       "  </thead>\n",
       "  <tbody>\n",
       "    <tr>\n",
       "      <th>0</th>\n",
       "      <td>Did you hear about the Native American man tha...</td>\n",
       "      <td>He nearly drown in his own tea pee.</td>\n",
       "    </tr>\n",
       "    <tr>\n",
       "      <th>1</th>\n",
       "      <td>What's the best anti diarrheal prescription?</td>\n",
       "      <td>Mycheexarphlexin</td>\n",
       "    </tr>\n",
       "    <tr>\n",
       "      <th>2</th>\n",
       "      <td>What do you call a person who is outside a doo...</td>\n",
       "      <td>Matt</td>\n",
       "    </tr>\n",
       "    <tr>\n",
       "      <th>3</th>\n",
       "      <td>Which Star Trek character is a member of the m...</td>\n",
       "      <td>Jean-Luc Pickacard</td>\n",
       "    </tr>\n",
       "    <tr>\n",
       "      <th>4</th>\n",
       "      <td>What's the difference between a bullet and a h...</td>\n",
       "      <td>A bullet doesn't miss Harambe</td>\n",
       "    </tr>\n",
       "  </tbody>\n",
       "</table>\n",
       "</div>"
      ],
      "text/plain": [
       "                                            Question  \\\n",
       "0  Did you hear about the Native American man tha...   \n",
       "1       What's the best anti diarrheal prescription?   \n",
       "2  What do you call a person who is outside a doo...   \n",
       "3  Which Star Trek character is a member of the m...   \n",
       "4  What's the difference between a bullet and a h...   \n",
       "\n",
       "                                Answer  \n",
       "0  He nearly drown in his own tea pee.  \n",
       "1                     Mycheexarphlexin  \n",
       "2                                 Matt  \n",
       "3                   Jean-Luc Pickacard  \n",
       "4        A bullet doesn't miss Harambe  "
      ]
     },
     "execution_count": 65,
     "metadata": {},
     "output_type": "execute_result"
    }
   ],
   "source": [
    "jokes.head()"
   ]
  },
  {
   "cell_type": "code",
   "execution_count": 66,
   "metadata": {},
   "outputs": [],
   "source": [
    "jokes = jokes.applymap(clean_text)"
   ]
  },
  {
   "cell_type": "code",
   "execution_count": 67,
   "metadata": {},
   "outputs": [
    {
     "name": "stdout",
     "output_type": "stream",
     "text": [
      "Number of examples before removing duplicates: 38269\n",
      "Number of examples after removing duplicates: 38187\n",
      "Number of duplicates removed: 82\n",
      "Number of examples before removing rows with empty strings: 38187\n",
      "Number of examples after removing the empty strings: 38166\n",
      "Number of removed empty strings: 21\n",
      "Number of examples before removing rows with more than 30 words: 38166\n",
      "Number of examples after removing rows with more than 30 words: 37086\n",
      "Number of removed rows with more than 30 words: 1080\n"
     ]
    }
   ],
   "source": [
    "jokes = preprocess(jokes, jokes.columns)"
   ]
  },
  {
   "cell_type": "code",
   "execution_count": 68,
   "metadata": {},
   "outputs": [
    {
     "name": "stdout",
     "output_type": "stream",
     "text": [
      "Number of distinct characters used in the dataset: 56\n",
      "Digits: ['0', '1', '2', '3', '4', '5', '6', '7', '8', '9']\n",
      "Alphabets: ['a', 'b', 'c', 'd', 'e', 'f', 'g', 'h', 'i', 'j', 'k', 'l', 'm', 'n', 'o', 'p', 'q', 'r', 's', 't', 'u', 'v', 'w', 'x', 'y', 'z']\n",
      "Special characters: [' ', '!', '$', '%', '&', \"'\", '(', ')', '*', '+', ',', '-', '.', '/', ':', ';', '=', '?', '@', '_', 'a', 'b', 'c', 'd', 'e', 'f', 'g', 'h', 'i', 'j', 'k', 'l', 'm', 'n', 'o', 'p', 'q', 'r', 's', 't', 'u', 'v', 'w', 'x', 'y', 'z']\n"
     ]
    }
   ],
   "source": [
    "distinct_chars(jokes, jokes.columns)"
   ]
  },
  {
   "cell_type": "markdown",
   "metadata": {},
   "source": [
    "Final compilation"
   ]
  },
  {
   "cell_type": "code",
   "execution_count": 69,
   "metadata": {},
   "outputs": [
    {
     "data": {
      "text/html": [
       "<div>\n",
       "<style scoped>\n",
       "    .dataframe tbody tr th:only-of-type {\n",
       "        vertical-align: middle;\n",
       "    }\n",
       "\n",
       "    .dataframe tbody tr th {\n",
       "        vertical-align: top;\n",
       "    }\n",
       "\n",
       "    .dataframe thead th {\n",
       "        text-align: right;\n",
       "    }\n",
       "</style>\n",
       "<table border=\"1\" class=\"dataframe\">\n",
       "  <thead>\n",
       "    <tr style=\"text-align: right;\">\n",
       "      <th></th>\n",
       "      <th>Question</th>\n",
       "      <th>Answer</th>\n",
       "    </tr>\n",
       "  </thead>\n",
       "  <tbody>\n",
       "    <tr>\n",
       "      <th>0</th>\n",
       "      <td>what ' s the best anti diarrheal prescription ?</td>\n",
       "      <td>mycheexarphlexin</td>\n",
       "    </tr>\n",
       "    <tr>\n",
       "      <th>1</th>\n",
       "      <td>what do you call a person who is outside a doo...</td>\n",
       "      <td>matt</td>\n",
       "    </tr>\n",
       "    <tr>\n",
       "      <th>2</th>\n",
       "      <td>which star trek character is a member of the m...</td>\n",
       "      <td>jean - luc pickacard</td>\n",
       "    </tr>\n",
       "    <tr>\n",
       "      <th>3</th>\n",
       "      <td>what ' s the difference between a bullet and a...</td>\n",
       "      <td>a bullet doesn ' t miss harambe</td>\n",
       "    </tr>\n",
       "    <tr>\n",
       "      <th>4</th>\n",
       "      <td>why was the ethiopian baby crying ?</td>\n",
       "      <td>he was having a mid - life crisis</td>\n",
       "    </tr>\n",
       "  </tbody>\n",
       "</table>\n",
       "</div>"
      ],
      "text/plain": [
       "                                            Question  \\\n",
       "0    what ' s the best anti diarrheal prescription ?   \n",
       "1  what do you call a person who is outside a doo...   \n",
       "2  which star trek character is a member of the m...   \n",
       "3  what ' s the difference between a bullet and a...   \n",
       "4                why was the ethiopian baby crying ?   \n",
       "\n",
       "                              Answer  \n",
       "0                   mycheexarphlexin  \n",
       "1                               matt  \n",
       "2               jean - luc pickacard  \n",
       "3    a bullet doesn ' t miss harambe  \n",
       "4  he was having a mid - life crisis  "
      ]
     },
     "execution_count": 69,
     "metadata": {},
     "output_type": "execute_result"
    }
   ],
   "source": [
    "dataset = pd.concat([wordball, reddit_jokes, jokes], ignore_index=True)\n",
    "dataset.head()"
   ]
  },
  {
   "cell_type": "code",
   "execution_count": 70,
   "metadata": {},
   "outputs": [
    {
     "data": {
      "text/plain": [
       "227800"
      ]
     },
     "execution_count": 70,
     "metadata": {},
     "output_type": "execute_result"
    }
   ],
   "source": [
    "len(dataset)"
   ]
  },
  {
   "cell_type": "code",
   "execution_count": 71,
   "metadata": {},
   "outputs": [],
   "source": [
    "dataset = dataset.drop_duplicates(keep='first')"
   ]
  },
  {
   "cell_type": "code",
   "execution_count": 72,
   "metadata": {},
   "outputs": [],
   "source": [
    "dataset.dropna(inplace=True)"
   ]
  },
  {
   "cell_type": "code",
   "execution_count": 73,
   "metadata": {},
   "outputs": [
    {
     "data": {
      "text/plain": [
       "175672"
      ]
     },
     "execution_count": 73,
     "metadata": {},
     "output_type": "execute_result"
    }
   ],
   "source": [
    "len(dataset)"
   ]
  },
  {
   "cell_type": "code",
   "execution_count": 74,
   "metadata": {},
   "outputs": [],
   "source": [
    "dataset = dataset.applymap(str)"
   ]
  },
  {
   "cell_type": "code",
   "execution_count": 75,
   "metadata": {},
   "outputs": [],
   "source": [
    "dataset.to_csv('../data/dataset.csv')"
   ]
  },
  {
   "cell_type": "code",
   "execution_count": null,
   "metadata": {},
   "outputs": [],
   "source": []
  },
  {
   "cell_type": "code",
   "execution_count": null,
   "metadata": {},
   "outputs": [],
   "source": []
  },
  {
   "cell_type": "code",
   "execution_count": null,
   "metadata": {},
   "outputs": [],
   "source": []
  },
  {
   "cell_type": "code",
   "execution_count": null,
   "metadata": {},
   "outputs": [],
   "source": []
  },
  {
   "cell_type": "code",
   "execution_count": null,
   "metadata": {},
   "outputs": [],
   "source": []
  },
  {
   "cell_type": "code",
   "execution_count": null,
   "metadata": {},
   "outputs": [],
   "source": [
    "https://github.com/sarvasvarora/sarcasm-generator/blob/main/dataset.py"
   ]
  }
 ],
 "metadata": {
  "kernelspec": {
   "display_name": "Python 3",
   "language": "python",
   "name": "python3"
  },
  "language_info": {
   "codemirror_mode": {
    "name": "ipython",
    "version": 3
   },
   "file_extension": ".py",
   "mimetype": "text/x-python",
   "name": "python",
   "nbconvert_exporter": "python",
   "pygments_lexer": "ipython3",
   "version": "3.10.12"
  },
  "orig_nbformat": 4
 },
 "nbformat": 4,
 "nbformat_minor": 2
}
